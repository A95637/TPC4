{
 "cells": [
  {
   "cell_type": "markdown",
   "metadata": {},
   "source": [
    "__Idenficador:__ TPC4  \n",
    "__Título do Trabalho:__ Frações  \n",
    "__Data de ínicio:__ 2021-10-11  \n",
    "__Data do Fim:__ 2021-10-17  \n",
    "__Supervisor:__ José Carlos Ramalho  \n",
    "__Autor:__ Luís Manuel Mendonça Gonçalves A95637  \n",
    "__Resumo:__ \n",
    "\n",
    "Neste trabalho foi pedido que fosse desenvolvido um programa capaz de trabalhar com frações, fazendo algumas operações com elas.  \n",
    "Neste programa foi utilzado como base os tuplos de dois fatores onde cada um significava o numerador e o denomindaor da função a usar.  \n",
    "Foram implementados funções como Criar uma Fração, Simplificar uma Fração, Soma de Frações, Subtração de Frações, Multiplicação de Frações, Divisão de Frações, Gerar uma Lista aleatoria de N fatores, Soma de Frações dessa mesma Lista e a Maior Fração de uma Lista."
   ]
  },
  {
   "cell_type": "code",
   "execution_count": null,
   "metadata": {},
   "outputs": [],
   "source": [
    "def menu():\n",
    "    print(\"\"\"Gestão de Frações\n",
    "    \n",
    "(1) Criar uma Fração\n",
    "(2) Simplificar uma Fração\n",
    "(3) Soma de Frações\n",
    "(4) Subtração de Frações \n",
    "(5) Multiplicação de Frações\n",
    "(6) Divisão de Frações\n",
    "(7) Gerar uma Lista aleatoria\n",
    "(8) Soma de Frações da uma Lista\n",
    "(9) Maior Fração de uma Lista\n",
    "(0) Sair\"\"\")\n"
   ]
  },
  {
   "cell_type": "code",
   "execution_count": null,
   "metadata": {},
   "outputs": [],
   "source": [
    "def val():\n",
    "    num=False\n",
    "    den=False\n",
    "    while not num or not den:\n",
    "        if not num:\n",
    "            try:\n",
    "                n=int(input(\"Qual o valor do numerador? \\n\"))\n",
    "                num=True\n",
    "            except:\n",
    "                num=False\n",
    "        if not den:\n",
    "            try:\n",
    "               d=int(input(\"Qual o valor do denominador? \\n\"))\n",
    "               den=True \n",
    "            except:\n",
    "                den=False\n",
    "    return(n,d)\n",
    "\n",
    "        "
   ]
  },
  {
   "cell_type": "code",
   "execution_count": null,
   "metadata": {},
   "outputs": [],
   "source": [
    "def criarfracao():\n",
    "    num=False\n",
    "    den=False\n",
    "    while not num or not den:\n",
    "        if not num:\n",
    "            try:\n",
    "                n=int(input(\"Qual o valor do numerador? \\n\"))\n",
    "                num=True\n",
    "            except:\n",
    "                num=False\n",
    "        if not den:\n",
    "            try:\n",
    "               d=int(input(\"Qual o valor do denominador? \\n\"))\n",
    "               den=True \n",
    "            except:\n",
    "                den=False\n",
    "    return (n,d)"
   ]
  },
  {
   "cell_type": "code",
   "execution_count": null,
   "metadata": {},
   "outputs": [],
   "source": [
    "def verfracao(f):\n",
    "    return(str(f[0])+\"/\"+str(f[1]))"
   ]
  },
  {
   "cell_type": "code",
   "execution_count": null,
   "metadata": {},
   "outputs": [],
   "source": [
    "def simplicarfuncao(f):\n",
    "    num,denom=f\n",
    "    a=mdc(num,denom)\n",
    "    \n",
    "    return (int(num/a),int(denom/a))\n",
    "    \n",
    "    \n",
    "def mdc (a,b):\n",
    "    if a%b ==0:\n",
    "        return b\n",
    "    elif b%a ==0:\n",
    "        return a\n",
    "    else: \n",
    "        if a>b:\n",
    "            return mdc(b,a%b)\n",
    "        else:\n",
    "            return mdc (a,b%a)"
   ]
  },
  {
   "cell_type": "code",
   "execution_count": null,
   "metadata": {},
   "outputs": [],
   "source": [
    "def somafrac(f1,f2):\n",
    "    sol=(int((f1[0]*f2[1])+(f2[0]*f1[1])),int(f1[1]*f2[1]))\n",
    "    return (simplicarfuncao(sol))\n"
   ]
  },
  {
   "cell_type": "code",
   "execution_count": null,
   "metadata": {},
   "outputs": [],
   "source": [
    "def subfrac(f1,f2):\n",
    "    sub=(int((f1[0]*f2[1])-(f2[0]*f1[1])),int(f1[1]*f2[1]))\n",
    "    return (simplicarfuncao(sub))"
   ]
  },
  {
   "cell_type": "code",
   "execution_count": null,
   "metadata": {},
   "outputs": [],
   "source": [
    "def multfrac(f1,f2):\n",
    "    mult=(int(f1[0]*f2[0]),int(f1[1]*f2[1]))\n",
    "    return(simplicarfuncao(mult))"
   ]
  },
  {
   "cell_type": "code",
   "execution_count": null,
   "metadata": {},
   "outputs": [],
   "source": [
    "def divfrac(f1,f2):\n",
    "    div=(int(f1[0]*f2[1]),int(f1[1]*f2[0]))\n",
    "    return(simplicarfuncao(div))"
   ]
  },
  {
   "cell_type": "code",
   "execution_count": null,
   "metadata": {},
   "outputs": [],
   "source": [
    "import random\n",
    "def ListaA():\n",
    "    Lista=[]\n",
    "    try:\n",
    "        N=int(input(\"Qual o número de valores\\n\"))\n",
    "        for i in range (N+1):\n",
    "            val=random.randint(0,1001)\n",
    "            val2=random.randint(0,1001)\n",
    "            frac=(val,val2)\n",
    "            Lista.append(frac)\n",
    "        return( Lista)\n",
    "    except:\n",
    "        print(\"Por favor insira um caracter válido!\")\n",
    "        return[\"a\"]\n",
    "\n",
    "        "
   ]
  },
  {
   "cell_type": "code",
   "execution_count": null,
   "metadata": {},
   "outputs": [],
   "source": [
    "def somalis(Listac):\n",
    "    acumulado=(0,1)\n",
    "    for i in range (len(Listac)):\n",
    "        acumulado=somafrac(acumulado,Listac[i])\n",
    "    return acumulado\n",
    "    "
   ]
  },
  {
   "cell_type": "code",
   "execution_count": null,
   "metadata": {},
   "outputs": [],
   "source": [
    "def Max(Lista2):\n",
    "    n=(0,1)\n",
    "    for i in range (len (Lista2)):\n",
    "        if (n[0]/n[1])<(Lista2[i][0]/Lista2[i][1]):\n",
    "            n=(Lista2[i][0],Lista2[i][1])\n",
    "            \n",
    "    return (n)"
   ]
  },
  {
   "cell_type": "code",
   "execution_count": null,
   "metadata": {},
   "outputs": [],
   "source": [
    "op=\"a\"\n",
    "while op!=\"0\":\n",
    "    menu()\n",
    "    op=input(\"Qual a opção que quer escolher? \\n\")\n",
    "    if op==\"1\":\n",
    "        fração=(criarfracao())\n",
    "        print(verfracao(fração))\n",
    "    elif op==\"2\":\n",
    "        try:\n",
    "            fração=simplicarfuncao(fração)\n",
    "            print(verfracao(fração))\n",
    "        except:\n",
    "            print(\"É necessário criar uma função por favor selecione a opção 1 primeiro!\")\n",
    "    elif op==\"3\":\n",
    "        try:\n",
    "            fração2=criarfracao()\n",
    "            soma=somafrac(fração,fração2)\n",
    "            print(verfracao(fração),\"+\",verfracao(fração2),\"=\",verfracao(soma))\n",
    "        except:\n",
    "            print(\"É necessário criar uma função por favor selecione a opção 1 primeiro!\")   \n",
    "    elif op==\"4\":\n",
    "        try:\n",
    "            fração2=criarfracao()\n",
    "            subt=subfrac(fração,fração2)\n",
    "            print(verfracao(fração),\"-\",verfracao(fração2),\"=\",verfracao(subt))\n",
    "        except:\n",
    "            print(\"É necessário criar uma função por favor selecione a opção 1 primeiro!\")\n",
    "    elif op==\"5\":\n",
    "        try:\n",
    "            fração2=criarfracao()\n",
    "            mul=multfrac(fração,fração2)\n",
    "            print(verfracao(fração),\"*\",verfracao(fração2),\"=\",verfracao(mul))\n",
    "        except:\n",
    "            print(\"É necessário criar uma função por favor selecione a opção 1 primeiro!\")\n",
    "    elif op==\"6\":\n",
    "        try:\n",
    "            fração2=criarfracao()\n",
    "            div=divfrac(fração,fração2)\n",
    "            print(verfracao(fração),\"/\",verfracao(fração2),\"=\",verfracao(div))\n",
    "        except:\n",
    "            print(\"É necessário criar uma função por favor selecione a opção 1 primeiro!\")\n",
    "    elif op==\"7\":\n",
    "        Lista=ListaA()\n",
    "        if Lista==[\"a\"]:\n",
    "            op=7\n",
    "        else:\n",
    "            print(Lista)\n",
    "    elif op==\"8\":\n",
    "        soma2=somalis(Lista)\n",
    "        print(verfracao(soma2))\n",
    "    elif op==\"9\":\n",
    "        print(verfracao(Max(Lista)))\n",
    "    else:\n",
    "        print(\"Por favor insira um caracter válido\")"
   ]
  }
 ],
 "metadata": {
  "interpreter": {
   "hash": "3cf160148158686e6c735920367402ff42da79f3b5c2ab91f9bb8aea49f4fe03"
  },
  "kernelspec": {
   "display_name": "Python 3.9.0 64-bit (system)",
   "name": "python3"
  },
  "language_info": {
   "codemirror_mode": {
    "name": "ipython",
    "version": 3
   },
   "file_extension": ".py",
   "mimetype": "text/x-python",
   "name": "python",
   "nbconvert_exporter": "python",
   "pygments_lexer": "ipython3",
   "version": "3.9.0"
  },
  "orig_nbformat": 4
 },
 "nbformat": 4,
 "nbformat_minor": 2
}
